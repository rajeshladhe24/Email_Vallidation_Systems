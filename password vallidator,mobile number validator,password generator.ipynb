{
 "cells": [
  {
   "cell_type": "code",
   "execution_count": 94,
   "id": "1ab181ae",
   "metadata": {
    "scrolled": true
   },
   "outputs": [
    {
     "name": "stdout",
     "output_type": "stream",
     "text": [
      "enter the passwordRajesh@989\n",
      "password created\n"
     ]
    }
   ],
   "source": [
    "#PASSWORD VALLIDATION\n",
    "#one digit\n",
    "#one lower case\n",
    "#one upper case\n",
    "#one special character\n",
    "password=input(\"enter the password\")\n",
    "a=0\n",
    "b=0\n",
    "c=0\n",
    "s=0\n",
    "if len(password)>=6:\n",
    "    for i in password:\n",
    "        if(i.islower()):\n",
    "            a+=1\n",
    "        if(i.isupper()):\n",
    "            b+=1\n",
    "        if(i.isdigit()):\n",
    "            c+=1\n",
    "        if(i=='@'or i=='$' or i=='_' or i==\"&\"):\n",
    "            s+=1  \n",
    "if (a>=1 and b>=1 and c>=1 and s>=1):\n",
    "    print(\"password created\")\n",
    "else:\n",
    "    if a==0:\n",
    "        print(\"It contain minimum one lower  case letter\")\n",
    "    elif b==0:\n",
    "        print(\"It contain Minimum one Upper case letter\")\n",
    "    elif c==0:\n",
    "        print(\"It contain Minimum one digit\")\n",
    "    elif s==0:\n",
    "        print(\"it do not contain any special character\")\n",
    "          \n",
    "    \n"
   ]
  },
  {
   "cell_type": "code",
   "execution_count": 97,
   "id": "60c98851",
   "metadata": {},
   "outputs": [
    {
     "name": "stdout",
     "output_type": "stream",
     "text": [
      "enetr the mobile numberhsdhf5654\n",
      "It contains only digits not alphabet\n"
     ]
    }
   ],
   "source": [
    "#MOBILE NUMBER VALIDATION\n",
    "mobile_number=input(\"enetr the mobile number\")\n",
    "k=0\n",
    "if mobile_number.isnumeric():\n",
    "    for i in mobile_number:\n",
    "        if(i.isdigit()):\n",
    "            k+=1\n",
    "    if k==10:\n",
    "        print(\"Successfully added number\")\n",
    "    else:\n",
    "        print(\"Not having 10 digit\")\n",
    "else:\n",
    "    print(\"It contains only digits not alphabet\")"
   ]
  },
  {
   "cell_type": "markdown",
   "id": "2037f954",
   "metadata": {},
   "source": [
    "PASSWORD GENERATOR\n"
   ]
  },
  {
   "cell_type": "code",
   "execution_count": 99,
   "id": "09f82557",
   "metadata": {},
   "outputs": [
    {
     "name": "stdout",
     "output_type": "stream",
     "text": [
      "enter the length of password to be generate4\n",
      "Random string of length4 is: wvxj\n"
     ]
    }
   ],
   "source": [
    "#RANDOM PASSWORD GENERATOR\n",
    "import random\n",
    "import string\n",
    "length=int(input(\"enter the length of password to be generate\"))\n",
    "letters = string.ascii_lowercase\n",
    "\n",
    "result_str = ''.join(random.choice(letters) for i in range(length))\n",
    "print(f\"Random string of length{length} is:\",result_str)"
   ]
  },
  {
   "cell_type": "code",
   "execution_count": null,
   "id": "64377561",
   "metadata": {},
   "outputs": [],
   "source": []
  }
 ],
 "metadata": {
  "kernelspec": {
   "display_name": "Python 3 (ipykernel)",
   "language": "python",
   "name": "python3"
  },
  "language_info": {
   "codemirror_mode": {
    "name": "ipython",
    "version": 3
   },
   "file_extension": ".py",
   "mimetype": "text/x-python",
   "name": "python",
   "nbconvert_exporter": "python",
   "pygments_lexer": "ipython3",
   "version": "3.11.3"
  }
 },
 "nbformat": 4,
 "nbformat_minor": 5
}
