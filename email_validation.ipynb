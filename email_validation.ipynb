{
  "cells": [
    {
      "cell_type": "code",
      "execution_count": null,
      "id": "1b12edd0",
      "metadata": {
        "id": "1b12edd0"
      },
      "outputs": [],
      "source": [
        "#check email validation\n",
        "email=input(\"enter the email\")\n",
        "k=0\n",
        "l=0\n",
        "d=0\n",
        "#1.g@g.in  minimum characters =6\n",
        "if len(email)>=6:\n",
        "    #2 first char should be alpabhet\n",
        "    if email[0].isalpha():\n",
        "        #3 email id contains only one @\n",
        "        if (\"@\" in email) and (email.count('@')==1):\n",
        "            #4 .'.' position is at -4 and -3 in .com and .in and if ..com for these conditon nor is used both trueand false it gives false\n",
        "            if(email[-4]=='.') ^ (email[-3]=='.'):\n",
        "                for i in email:\n",
        "                    if i==i.isspace():\n",
        "                        k=1\n",
        "                    elif i.isalpha():\n",
        "                        if i.isupper():\n",
        "                            l=1\n",
        "                    elif i.isdigit():\n",
        "                        continue\n",
        "                    elif i==\"_\" or i==\"@\" or i==\".\":\n",
        "                        continue\n",
        "                    else:\n",
        "                        d=1\n",
        "                if k==1:\n",
        "                    print(\"Invallid email it do not contain space\")\n",
        "                elif l==1:\n",
        "                    print(\"it contains upper case letter\")\n",
        "                elif d==1:\n",
        "                    print(\"it contains any special character other than _ .\")\n",
        "            else:\n",
        "                print(\"you had not written .com and .in in correct way\")\n",
        "        else:\n",
        "            print(\"email id contains only one @\")\n",
        "    else:\n",
        "        print(\"first character should not be an alpabhet\")\n",
        "else:\n",
        "    print(\"email should contain more than 6 character for ex. g@g.in\")\n",
        "\n",
        "\n",
        ""
      ]
    },
    {
      "cell_type": "code",
      "execution_count": null,
      "id": "bf3c6f6f",
      "metadata": {
        "id": "bf3c6f6f",
        "outputId": "6e36e115-fb8e-455a-a9c1-f0c7a018b523"
      },
      "outputs": [
        {
          "ename": "ModuleNotFoundError",
          "evalue": "No module named 'email_validator'",
          "output_type": "error",
          "traceback": [
            "\u001b[1;31m---------------------------------------------------------------------------\u001b[0m",
            "\u001b[1;31mModuleNotFoundError\u001b[0m                       Traceback (most recent call last)",
            "Cell \u001b[1;32mIn[2], line 1\u001b[0m\n\u001b[1;32m----> 1\u001b[0m \u001b[38;5;28;01mfrom\u001b[39;00m \u001b[38;5;21;01memail_validator\u001b[39;00m \u001b[38;5;28;01mimport\u001b[39;00m validate_email, EmailNotValidError\n\u001b[0;32m      3\u001b[0m \u001b[38;5;28;01mdef\u001b[39;00m \u001b[38;5;21mcheck\u001b[39m(email):\n\u001b[0;32m      4\u001b[0m     \u001b[38;5;28;01mtry\u001b[39;00m:\n\u001b[0;32m      5\u001b[0m       \u001b[38;5;66;03m# validate and get info\u001b[39;00m\n",
            "\u001b[1;31mModuleNotFoundError\u001b[0m: No module named 'email_validator'"
          ]
        }
      ],
      "source": []
    },
    {
      "cell_type": "code",
      "execution_count": null,
      "id": "c09ec018",
      "metadata": {
        "id": "c09ec018"
      },
      "outputs": [],
      "source": []
    },
    {
      "cell_type": "code",
      "execution_count": null,
      "id": "f2fcba0e",
      "metadata": {
        "id": "f2fcba0e"
      },
      "outputs": [],
      "source": []
    }
  ],
  "metadata": {
    "kernelspec": {
      "display_name": "Python 3 (ipykernel)",
      "language": "python",
      "name": "python3"
    },
    "language_info": {
      "codemirror_mode": {
        "name": "ipython",
        "version": 3
      },
      "file_extension": ".py",
      "mimetype": "text/x-python",
      "name": "python",
      "nbconvert_exporter": "python",
      "pygments_lexer": "ipython3",
      "version": "3.11.4"
    },
    "colab": {
      "provenance": []
    }
  },
  "nbformat": 4,
  "nbformat_minor": 5
}